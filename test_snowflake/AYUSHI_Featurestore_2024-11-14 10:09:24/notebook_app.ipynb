{
 "metadata": {
  "kernelspec": {
   "display_name": "Streamlit Notebook",
   "name": "streamlit"
  }
 },
 "nbformat_minor": 5,
 "nbformat": 4,
 "cells": [
  {
   "cell_type": "code",
   "id": "3775908f-ca36-4846-8f38-5adca39217f2",
   "metadata": {
    "language": "python",
    "name": "cell1",
    "resultHeight": 239,
    "collapsed": false
   },
   "source": "# Import python packages\nimport streamlit as st\nimport pandas as pd\n\n# We can also use Snowpark for our analyses!\nfrom snowflake.snowpark.context import get_active_session\nsession = get_active_session()\n\n\nfrom snowflake.snowpark import functions as F\nfrom snowflake.ml.feature_store import FeatureStore, CreationMode, Entity, FeatureView\nfrom snowflake.snowpark.context import get_active_session\nfrom sklearn.preprocessing import LabelEncoder\nfrom sklearn.preprocessing import StandardScaler\nimport modin.pandas as pd\n\ntest_df = session.table(\"ayushi_clone.public.REGIONS\")\ntest_df_pd = test_df.to_pandas()\noutput_test_df, list = label_encode(test_df_pd,['INCOMING_VALUE'])\n\nfs = FeatureStore(\nsession=session,\ndatabase=\"ayushi_db\",\nname=\"FEATURE_STORE_SCHEMA\",\ndefault_warehouse=\"test_ayu_wh\"\n)\n\ndiscount_response = FeatureView(\nname=\"discount_response\",\nentities=\"amperity_id\",\nfeature_df=output_test_df\n)\n\ndiscount_response_fv = fs.register_feature_view(discount_response, version=\"1\", overwrite=True)\n\n# Show our newly created Feature View and display as Pandas DataFrame\nfs.list_feature_views().to_pandas()\n\n##AttributeError: 'DataFrame' object has no attribute 'queries'\n",
   "execution_count": null,
   "outputs": []
  },
  {
   "cell_type": "code",
   "id": "8d50cbf4-0c8d-4950-86cb-114990437ac9",
   "metadata": {
    "language": "sql",
    "name": "cell2"
   },
   "source": "-- Welcome to Snowflake Notebooks!\n-- Try out a SQL cell to generate some data.\nSELECT 'FRIDAY' as SNOWDAY, 0.2 as CHANCE_OF_SNOW\nUNION ALL\nSELECT 'SATURDAY',0.5\nUNION ALL \nSELECT 'SUNDAY', 0.9;",
   "execution_count": null,
   "outputs": []
  },
  {
   "cell_type": "code",
   "id": "c695373e-ac74-4b62-a1f1-08206cbd5c81",
   "metadata": {
    "language": "python",
    "name": "cell3"
   },
   "source": "# Then, we can use the python name to turn cell2 into a Pandas dataframe\nmy_df = cell2.to_pandas()\n\n# Chart the data\nst.subheader(\"Chance of SNOW ❄️\")\nst.line_chart(my_df, x='SNOWDAY', y='CHANCE_OF_SNOW')\n\n# Give it a go!\nst.subheader(\"Try it out yourself and show off your skills 🥇\")",
   "execution_count": null,
   "outputs": []
  }
 ]
}